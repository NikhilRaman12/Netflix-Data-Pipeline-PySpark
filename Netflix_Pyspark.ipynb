{
  "nbformat": 4,
  "nbformat_minor": 0,
  "metadata": {
    "colab": {
      "provenance": []
    },
    "kernelspec": {
      "name": "python3",
      "display_name": "Python 3"
    },
    "language_info": {
      "name": "python"
    }
  },
  "cells": [
    {
      "cell_type": "code",
      "execution_count": null,
      "metadata": {
        "id": "Kq5-fZPEcXG_"
      },
      "outputs": [],
      "source": [
        "import pandas as pd\n",
        "import numpy as np\n",
        "import matplotlib.pyplot as plt\n",
        "import seaborn as sns\n",
        "import pyspark\n",
        "import sklearn"
      ]
    },
    {
      "cell_type": "code",
      "source": [
        "#run spark session\n",
        "from pyspark.sql import SparkSession\n",
        "from pyspark.sql.types import StructType, StructField, StringType, IntegerType\n",
        "#start the session\n",
        "spark= SparkSession.builder.appName(\"netflix_pipeline\").getOrCreate()"
      ],
      "metadata": {
        "id": "wUjyj0Joc8es"
      },
      "execution_count": null,
      "outputs": []
    },
    {
      "cell_type": "code",
      "source": [
        "schema = StructType([\n",
        "    StructField(\"show_id\", StringType(), True),\n",
        "    StructField(\"type\", StringType(), True),\n",
        "    StructField(\"title\", StringType(), True),\n",
        "    StructField(\"director\", StringType(), True),\n",
        "    StructField(\"cast\", StringType(), True),\n",
        "    StructField(\"country\", StringType(), True),\n",
        "    StructField(\"date_added\", StringType(), True),\n",
        "    StructField(\"release_year\", IntegerType(), True),\n",
        "    StructField(\"rating\", StringType(), True),\n",
        "    StructField(\"duration\", StringType(), True),\n",
        "    StructField(\"listed_in\", StringType(), True),\n",
        "    StructField(\"description\", StringType(), True)\n",
        "])\n"
      ],
      "metadata": {
        "id": "ateHE2YgjHso"
      },
      "execution_count": null,
      "outputs": []
    },
    {
      "cell_type": "code",
      "source": [
        "# Load Netflix data\n",
        "df = spark.read.csv(\"netflix_titles.csv\", schema=schema, header=True)\n",
        "\n",
        "# Filter: Only movies released after 2015 with rating 'TV-MA'\n",
        "filtered_df = df.filter((df.type == \"Movie\") & (df.release_year > 2015) & (df.rating == \"TV-MA\"))\n",
        "\n",
        "# Show results\n",
        "filtered_df.select(\"title\", \"release_year\", \"rating\", \"country\").show(truncate=False)\n"
      ],
      "metadata": {
        "colab": {
          "base_uri": "https://localhost:8080/"
        },
        "id": "zlcwM_5KXiZs",
        "outputId": "3f963c87-f62b-45e2-8bb2-7a840d18934c"
      },
      "execution_count": null,
      "outputs": [
        {
          "output_type": "stream",
          "name": "stdout",
          "text": [
            "+-----------------------------------------------------+------------+------+-----------------------+\n",
            "|title                                                |release_year|rating|country                |\n",
            "+-----------------------------------------------------+------------+------+-----------------------+\n",
            "|Je Suis Karl                                         |2021        |TV-MA |Germany, Czech Republic|\n",
            "|Europe's Most Dangerous Man: Otto Skorzeny in Spain  |2020        |TV-MA |NULL                   |\n",
            "|The Father Who Moves Mountains                       |2021        |TV-MA |NULL                   |\n",
            "|The Stronghold                                       |2021        |TV-MA |NULL                   |\n",
            "|Omo Ghetto: the Saga                                 |2020        |TV-MA |Nigeria                |\n",
            "|Prey                                                 |2021        |TV-MA |NULL                   |\n",
            "|Paradise Hills                                       |2019        |TV-MA |Spain, United States   |\n",
            "|JJ+E                                                 |2021        |TV-MA |NULL                   |\n",
            "|If I Leave Here Tomorrow: A Film About Lynyrd Skynyrd|2018        |TV-MA |United States          |\n",
            "|Untold: Breaking Point                               |2021        |TV-MA |United States          |\n",
            "|Shadow Parties                                       |2020        |TV-MA |NULL                   |\n",
            "|Here and There                                       |2020        |TV-MA |NULL                   |\n",
            "|Janoskians: Untold and Untrue                        |2016        |TV-MA |United States          |\n",
            "|Untold: Crime & Penalties                            |2021        |TV-MA |NULL                   |\n",
            "|Kyaa Kool Hain Hum 3                                 |2016        |TV-MA |India                  |\n",
            "|Really Love                                          |2020        |TV-MA |United States          |\n",
            "|The Old Ways                                         |2020        |TV-MA |United States          |\n",
            "|The River Runner                                     |2021        |TV-MA |NULL                   |\n",
            "|Count Me In                                          |2021        |TV-MA |United Kingdom         |\n",
            "|The Witcher: Nightmare of the Wolf                   |2021        |TV-MA |NULL                   |\n",
            "+-----------------------------------------------------+------------+------+-----------------------+\n",
            "only showing top 20 rows\n",
            "\n"
          ]
        }
      ]
    },
    {
      "cell_type": "code",
      "source": [
        "#drop duplicates\n",
        "df = df.dropDuplicates()\n",
        "print(df)\n",
        "#fill the null values\n",
        "df= df.fillna({\"country\": \"unknown\", \"rating\": \"notrated\"})"
      ],
      "metadata": {
        "colab": {
          "base_uri": "https://localhost:8080/"
        },
        "id": "mkiTH--zxlox",
        "outputId": "5d036dd3-3b52-4215-eb20-cdcf124f086e"
      },
      "execution_count": null,
      "outputs": [
        {
          "output_type": "stream",
          "name": "stdout",
          "text": [
            "DataFrame[show_id: string, type: string, title: string, director: string, cast: string, country: string, date_added: string, release_year: int, rating: string, duration: string, listed_in: string, description: string]\n"
          ]
        }
      ]
    },
    {
      "cell_type": "code",
      "source": [
        "#EDA\n",
        "#Count by Type (Movies vs TV Shows)\n",
        "df.groupby(\"type\").count().show()"
      ],
      "metadata": {
        "colab": {
          "base_uri": "https://localhost:8080/"
        },
        "id": "j-UMNiFfYdNj",
        "outputId": "a9ee20fa-09f0-4c3a-fb4c-afe56ea8cac0"
      },
      "execution_count": null,
      "outputs": [
        {
          "output_type": "stream",
          "name": "stdout",
          "text": [
            "+-------------+-----+\n",
            "|         type|count|\n",
            "+-------------+-----+\n",
            "|      TV Show| 2676|\n",
            "|        Movie| 6131|\n",
            "|         NULL|    1|\n",
            "|William Wyler|    1|\n",
            "+-------------+-----+\n",
            "\n"
          ]
        }
      ]
    },
    {
      "cell_type": "code",
      "source": [
        "#Top 10 Countries with Most Titles\n",
        "from pyspark.sql.functions import count, desc\n",
        "df.groupby(\"country\").agg(count(\"*\").alias(\"total_titles\")).orderBy(desc(\"total_titles\")).show(10)"
      ],
      "metadata": {
        "colab": {
          "base_uri": "https://localhost:8080/"
        },
        "id": "VDVL-bTwYzYt",
        "outputId": "c9671fea-3001-4316-a2df-4332a17fae0d"
      },
      "execution_count": null,
      "outputs": [
        {
          "output_type": "stream",
          "name": "stdout",
          "text": [
            "+--------------+------------+\n",
            "|       country|total_titles|\n",
            "+--------------+------------+\n",
            "| United States|        2805|\n",
            "|         India|         972|\n",
            "|       unknown|         832|\n",
            "|United Kingdom|         419|\n",
            "|         Japan|         245|\n",
            "|   South Korea|         199|\n",
            "|        Canada|         181|\n",
            "|         Spain|         145|\n",
            "|        France|         123|\n",
            "|        Mexico|         110|\n",
            "+--------------+------------+\n",
            "only showing top 10 rows\n",
            "\n"
          ]
        }
      ]
    },
    {
      "cell_type": "code",
      "source": [
        "#trend of release year\n",
        "df.groupby(\"release_year\").agg(count(\"*\").alias(\"num_titles\")).orderBy(desc(\"num_titles\")).show(10)"
      ],
      "metadata": {
        "colab": {
          "base_uri": "https://localhost:8080/"
        },
        "id": "Aw6fcqVgh9xw",
        "outputId": "987c45a8-f0a3-427f-cd0d-aa9005fa18d8"
      },
      "execution_count": null,
      "outputs": [
        {
          "output_type": "stream",
          "name": "stdout",
          "text": [
            "+------------+----------+\n",
            "|release_year|num_titles|\n",
            "+------------+----------+\n",
            "|        2018|      1145|\n",
            "|        2017|      1030|\n",
            "|        2019|      1026|\n",
            "|        2020|       952|\n",
            "|        2016|       901|\n",
            "|        2021|       589|\n",
            "|        2015|       559|\n",
            "|        2014|       352|\n",
            "|        2013|       288|\n",
            "|        2012|       237|\n",
            "+------------+----------+\n",
            "only showing top 10 rows\n",
            "\n"
          ]
        }
      ]
    },
    {
      "cell_type": "code",
      "source": [
        "#advanced insights\n",
        "#Top directors by number of movies\n",
        "df.groupby(\"director\").agg(count(\"*\").alias(\"top_directors\")).orderBy(desc(\"top_directors\")).show(10)"
      ],
      "metadata": {
        "colab": {
          "base_uri": "https://localhost:8080/"
        },
        "id": "Y81t0kJ_pVrF",
        "outputId": "98cde932-664d-4ebc-d1f7-f0400cc5b5d5"
      },
      "execution_count": null,
      "outputs": [
        {
          "output_type": "stream",
          "name": "stdout",
          "text": [
            "+--------------------+-------------+\n",
            "|            director|top_directors|\n",
            "+--------------------+-------------+\n",
            "|                NULL|         2636|\n",
            "|       Rajiv Chilaka|           19|\n",
            "|Raúl Campos, Jan ...|           18|\n",
            "|        Marcus Raboy|           16|\n",
            "|         Suhas Kadav|           16|\n",
            "|           Jay Karas|           14|\n",
            "| Cathy Garcia-Molina|           13|\n",
            "|     Youssef Chahine|           12|\n",
            "|     Martin Scorsese|           12|\n",
            "|         Jay Chapman|           12|\n",
            "+--------------------+-------------+\n",
            "only showing top 10 rows\n",
            "\n"
          ]
        }
      ]
    },
    {
      "cell_type": "code",
      "source": [
        "#popular genres listedin\n",
        "from pyspark.sql.functions import split, explode, trim, col\n",
        "genres = df.withColumn(\"genre\", explode(split(col(\"listed_in\"), \",\"))) \\\n",
        "           .withColumn(\"genre\", trim(col(\"genre\")))"
      ],
      "metadata": {
        "colab": {
          "base_uri": "https://localhost:8080/",
          "height": 193
        },
        "id": "xsFvj27hrLH_",
        "outputId": "74833cbc-9efd-487f-dece-e630614f49e4"
      },
      "execution_count": null,
      "outputs": [
        {
          "output_type": "error",
          "ename": "NameError",
          "evalue": "name 'df' is not defined",
          "traceback": [
            "\u001b[0;31m---------------------------------------------------------------------------\u001b[0m",
            "\u001b[0;31mNameError\u001b[0m                                 Traceback (most recent call last)",
            "\u001b[0;32m/tmp/ipython-input-754897093.py\u001b[0m in \u001b[0;36m<cell line: 0>\u001b[0;34m()\u001b[0m\n\u001b[1;32m      1\u001b[0m \u001b[0;31m#popular genres listedin\u001b[0m\u001b[0;34m\u001b[0m\u001b[0;34m\u001b[0m\u001b[0m\n\u001b[1;32m      2\u001b[0m \u001b[0;32mfrom\u001b[0m \u001b[0mpyspark\u001b[0m\u001b[0;34m.\u001b[0m\u001b[0msql\u001b[0m\u001b[0;34m.\u001b[0m\u001b[0mfunctions\u001b[0m \u001b[0;32mimport\u001b[0m \u001b[0msplit\u001b[0m\u001b[0;34m,\u001b[0m \u001b[0mexplode\u001b[0m\u001b[0;34m,\u001b[0m \u001b[0mtrim\u001b[0m\u001b[0;34m,\u001b[0m \u001b[0mcol\u001b[0m\u001b[0;34m\u001b[0m\u001b[0;34m\u001b[0m\u001b[0m\n\u001b[0;32m----> 3\u001b[0;31m \u001b[0mgenres\u001b[0m \u001b[0;34m=\u001b[0m \u001b[0mdf\u001b[0m\u001b[0;34m.\u001b[0m\u001b[0mwithColumn\u001b[0m\u001b[0;34m(\u001b[0m\u001b[0;34m\"genre\"\u001b[0m\u001b[0;34m,\u001b[0m \u001b[0mexplode\u001b[0m\u001b[0;34m(\u001b[0m\u001b[0msplit\u001b[0m\u001b[0;34m(\u001b[0m\u001b[0mcol\u001b[0m\u001b[0;34m(\u001b[0m\u001b[0;34m\"listed_in\"\u001b[0m\u001b[0;34m)\u001b[0m\u001b[0;34m,\u001b[0m \u001b[0;34m\",\"\u001b[0m\u001b[0;34m)\u001b[0m\u001b[0;34m)\u001b[0m\u001b[0;34m)\u001b[0m\u001b[0;31m \u001b[0m\u001b[0;31m\\\u001b[0m\u001b[0;34m\u001b[0m\u001b[0;34m\u001b[0m\u001b[0m\n\u001b[0m\u001b[1;32m      4\u001b[0m            \u001b[0;34m.\u001b[0m\u001b[0mwithColumn\u001b[0m\u001b[0;34m(\u001b[0m\u001b[0;34m\"genre\"\u001b[0m\u001b[0;34m,\u001b[0m \u001b[0mtrim\u001b[0m\u001b[0;34m(\u001b[0m\u001b[0mcol\u001b[0m\u001b[0;34m(\u001b[0m\u001b[0;34m\"genre\"\u001b[0m\u001b[0;34m)\u001b[0m\u001b[0;34m)\u001b[0m\u001b[0;34m)\u001b[0m\u001b[0;34m\u001b[0m\u001b[0;34m\u001b[0m\u001b[0m\n",
            "\u001b[0;31mNameError\u001b[0m: name 'df' is not defined"
          ]
        }
      ]
    },
    {
      "cell_type": "code",
      "metadata": {
        "colab": {
          "base_uri": "https://localhost:8080/"
        },
        "id": "pAiBERIWhLF8",
        "outputId": "2e893fe7-31ee-4b9e-c382-262b629ea508"
      },
      "source": [
        "import pandas as pd\n",
        "import numpy as np\n",
        "import matplotlib.pyplot as plt\n",
        "import seaborn as sns\n",
        "import pyspark\n",
        "import sklearn\n",
        "\n",
        "#run spark session\n",
        "from pyspark.sql import SparkSession\n",
        "from pyspark.sql.types import StructType, StructField, StringType, IntegerType\n",
        "#start the session\n",
        "spark= SparkSession.builder.appName(\"netflix_pipeline\").getOrCreate()\n",
        "\n",
        "schema = StructType([\n",
        "    StructField(\"show_id\", StringType(), True),\n",
        "    StructField(\"type\", StringType(), True),\n",
        "    StructField(\"title\", StringType(), True),\n",
        "    StructField(\"director\", StringType(), True),\n",
        "    StructField(\"cast\", StringType(), True),\n",
        "    StructField(\"country\", StringType(), True),\n",
        "    StructField(\"date_added\", StringType(), True),\n",
        "    StructField(\"release_year\", IntegerType(), True),\n",
        "    StructField(\"rating\", StringType(), True),\n",
        "    StructField(\"duration\", StringType(), True),\n",
        "    StructField(\"listed_in\", StringType(), True),\n",
        "    StructField(\"description\", StringType(), True)\n",
        "])\n",
        "\n",
        "#load the dataset\n",
        "df= spark.read.csv(\"netflix_titles.csv\", schema=schema, header= True)\n",
        "# Filter: Only movies released after 2015 with rating 'TV-MA'\n",
        "filtered_df = df.filter((df.type == \"Movie\") & (df.release_year > 2015) & (df.rating == \"TV-MA\"))\n",
        "#show results\n",
        "filtered_df.select(\"title\", \"release_year\", \"rating\", \"country\").show(truncate= False)"
      ],
      "execution_count": null,
      "outputs": [
        {
          "output_type": "stream",
          "name": "stdout",
          "text": [
            "+-----------------------------------------------------+------------+------+-----------------------+\n",
            "|title                                                |release_year|rating|country                |\n",
            "+-----------------------------------------------------+------------+------+-----------------------+\n",
            "|Je Suis Karl                                         |2021        |TV-MA |Germany, Czech Republic|\n",
            "|Europe's Most Dangerous Man: Otto Skorzeny in Spain  |2020        |TV-MA |NULL                   |\n",
            "|The Father Who Moves Mountains                       |2021        |TV-MA |NULL                   |\n",
            "|The Stronghold                                       |2021        |TV-MA |NULL                   |\n",
            "|Omo Ghetto: the Saga                                 |2020        |TV-MA |Nigeria                |\n",
            "|Prey                                                 |2021        |TV-MA |NULL                   |\n",
            "|Paradise Hills                                       |2019        |TV-MA |Spain, United States   |\n",
            "|JJ+E                                                 |2021        |TV-MA |NULL                   |\n",
            "|If I Leave Here Tomorrow: A Film About Lynyrd Skynyrd|2018        |TV-MA |United States          |\n",
            "|Untold: Breaking Point                               |2021        |TV-MA |United States          |\n",
            "|Shadow Parties                                       |2020        |TV-MA |NULL                   |\n",
            "|Here and There                                       |2020        |TV-MA |NULL                   |\n",
            "|Janoskians: Untold and Untrue                        |2016        |TV-MA |United States          |\n",
            "|Untold: Crime & Penalties                            |2021        |TV-MA |NULL                   |\n",
            "|Kyaa Kool Hain Hum 3                                 |2016        |TV-MA |India                  |\n",
            "|Really Love                                          |2020        |TV-MA |United States          |\n",
            "|The Old Ways                                         |2020        |TV-MA |United States          |\n",
            "|The River Runner                                     |2021        |TV-MA |NULL                   |\n",
            "|Count Me In                                          |2021        |TV-MA |United Kingdom         |\n",
            "|The Witcher: Nightmare of the Wolf                   |2021        |TV-MA |NULL                   |\n",
            "+-----------------------------------------------------+------------+------+-----------------------+\n",
            "only showing top 20 rows\n",
            "\n"
          ]
        }
      ]
    },
    {
      "cell_type": "code",
      "source": [
        "#popular genres\n",
        "from pyspark.sql.functions import explode, split, trim, desc\n",
        "\n",
        "genres = df.withColumn(\"genre\", explode(split(col(\"listed_in\"), \",\"))) \\\n",
        "           .withColumn(\"genre\", trim(col(\"genre\")))\n",
        "\n",
        "genres.groupBy(\"genre\").count().orderBy(desc(\"count\")).show(10)"
      ],
      "metadata": {
        "id": "uJPVtTVGqEL7",
        "colab": {
          "base_uri": "https://localhost:8080/"
        },
        "outputId": "a5f990fa-4fa5-4b2c-ca00-8aeaa15c47b0"
      },
      "execution_count": null,
      "outputs": [
        {
          "output_type": "stream",
          "name": "stdout",
          "text": [
            "+--------------------+-----+\n",
            "|               genre|count|\n",
            "+--------------------+-----+\n",
            "|International Movies| 2748|\n",
            "|              Dramas| 2419|\n",
            "|            Comedies| 1670|\n",
            "|International TV ...| 1350|\n",
            "|       Documentaries|  866|\n",
            "|  Action & Adventure|  857|\n",
            "|           TV Dramas|  762|\n",
            "|  Independent Movies|  751|\n",
            "|Children & Family...|  641|\n",
            "|     Romantic Movies|  616|\n",
            "+--------------------+-----+\n",
            "only showing top 10 rows\n",
            "\n"
          ]
        }
      ]
    },
    {
      "cell_type": "code",
      "source": [
        "#convert the results to pandas to create visualizations\n",
        "releases_per_year= df.groupby(\"release_year\").count().orderBy(\"release_year\")\n",
        "pdf= releases_per_year.toPandas()\n",
        "plt.figure(figsize=(12,6))\n",
        "sns.lineplot(data=pdf, x=\"release_year\", y=\"count\", marker=\"o\")\n",
        "plt.title(\"Netflix Titles Released per Year\")\n",
        "plt.show()"
      ],
      "metadata": {
        "colab": {
          "base_uri": "https://localhost:8080/",
          "height": 564
        },
        "id": "bmlVh4iI2tcV",
        "outputId": "3b30aa7e-809a-4f29-95a3-7a9daa85a93c"
      },
      "execution_count": null,
      "outputs": [
        {
          "output_type": "display_data",
          "data": {
            "text/plain": [
              "<Figure size 1200x600 with 1 Axes>"
            ],
            "image/png": "[encoded data removed]"
          },
          "metadata": {}
        }
      ]
    },
    {
      "cell_type": "code",
      "source": [
        "#save filtered movies\n",
        "from pyspark.sql.functions import count, desc\n",
        "filtered_df.write.mode(\"overwrite\").csv(\"./output/filtered_movies\", header= True)\n",
        "# Save top countries\n",
        "df.groupBy(\"country\").agg(count(\"*\").alias(\"total_titles\")) \\\n",
        "  .orderBy(desc(\"total_titles\")) \\\n",
        "  .write.mode(\"overwrite\").csv(\"./output/top_countries\", header=True)"
      ],
      "metadata": {
        "id": "Q_OWCaDh42AW"
      },
      "execution_count": null,
      "outputs": []
    }
  ]
}